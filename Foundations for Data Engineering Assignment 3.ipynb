{
 "cells": [
  {
   "cell_type": "code",
   "execution_count": 1,
   "id": "82e89c37",
   "metadata": {},
   "outputs": [],
   "source": [
    "import numpy as np\n",
    "import pandas as pd\n",
    "import matplotlib.pyplot as plt\n",
    "import time"
   ]
  },
  {
   "cell_type": "code",
   "execution_count": 2,
   "id": "158c2397",
   "metadata": {},
   "outputs": [
    {
     "data": {
      "text/plain": [
       "array([149, 163, 201, 344, 379, 398, 399, 402, 411, 426])"
      ]
     },
     "execution_count": 2,
     "metadata": {},
     "output_type": "execute_result"
    }
   ],
   "source": [
    "np.random.seed(450)\n",
    "array = np.random.randint(100,500, size = 10)\n",
    "array = np.sort(array)\n",
    "array"
   ]
  },
  {
   "cell_type": "code",
   "execution_count": 3,
   "id": "b7cb429f",
   "metadata": {},
   "outputs": [],
   "source": [
    "run_times = []\n",
    "def loop(num):\n",
    "        factor = 1\n",
    "        for y in range(1, num+1):\n",
    "            factor = factor * y\n",
    "        return factor"
   ]
  },
  {
   "cell_type": "code",
   "execution_count": 4,
   "id": "b4de186c",
   "metadata": {},
   "outputs": [],
   "source": [
    "#Get factorials with iteration runtimes. Using 1000 iterations for more granular timing.\n",
    "for x in array:\n",
    "    starttime = time.time()\n",
    "    for y in range(1000):\n",
    "        loop(x)\n",
    "    endtime = time.time()\n",
    "    runtime = endtime-starttime\n",
    "    run_times.append(runtime*1000)"
   ]
  },
  {
   "cell_type": "code",
   "execution_count": 6,
   "id": "e9f254d2",
   "metadata": {},
   "outputs": [],
   "source": [
    "def fact(x):\n",
    "  if x == 1:\n",
    "    return 1\n",
    "  else:\n",
    "    return x * fact(x-1)"
   ]
  },
  {
   "cell_type": "code",
   "execution_count": 7,
   "id": "f888dea4",
   "metadata": {},
   "outputs": [],
   "source": [
    "#Get factorials with recursion runtimes. Using 1000 iterations for more granular timing.\n",
    "run_2 = []\n",
    "for x in array:\n",
    "    number = float(x)\n",
    "    starttime = time.time()\n",
    "    for y in range(1000):\n",
    "        fact(number)\n",
    "    endtime = time.time()\n",
    "    runtime = endtime-starttime\n",
    "    run_2.append(runtime*1000)"
   ]
  },
  {
   "cell_type": "code",
   "execution_count": 10,
   "id": "0b42ae3a",
   "metadata": {},
   "outputs": [],
   "source": [
    "#Get factorials (using fastest method)\n",
    "factorials = []\n",
    "for x in array:\n",
    "    factor = loop(x)\n",
    "    factorials.append(factor)\n"
   ]
  },
  {
   "cell_type": "code",
   "execution_count": 18,
   "id": "34de9fd2",
   "metadata": {},
   "outputs": [
    {
     "data": {
      "text/html": [
       "<div>\n",
       "<style scoped>\n",
       "    .dataframe tbody tr th:only-of-type {\n",
       "        vertical-align: middle;\n",
       "    }\n",
       "\n",
       "    .dataframe tbody tr th {\n",
       "        vertical-align: top;\n",
       "    }\n",
       "\n",
       "    .dataframe thead th {\n",
       "        text-align: right;\n",
       "    }\n",
       "</style>\n",
       "<table border=\"1\" class=\"dataframe\">\n",
       "  <thead>\n",
       "    <tr style=\"text-align: right;\">\n",
       "      <th></th>\n",
       "      <th>Number</th>\n",
       "      <th>Factorials</th>\n",
       "      <th>Recursion Time</th>\n",
       "      <th>Loop Time</th>\n",
       "      <th>Difference</th>\n",
       "    </tr>\n",
       "  </thead>\n",
       "  <tbody>\n",
       "    <tr>\n",
       "      <th>0</th>\n",
       "      <td>149</td>\n",
       "      <td>3808922637630569726985955243507369335459702385...</td>\n",
       "      <td>36.521912</td>\n",
       "      <td>19.834995</td>\n",
       "      <td>16.686916</td>\n",
       "    </tr>\n",
       "    <tr>\n",
       "      <th>1</th>\n",
       "      <td>163</td>\n",
       "      <td>2004401576545302577599591653441552787812849977...</td>\n",
       "      <td>36.437988</td>\n",
       "      <td>22.427797</td>\n",
       "      <td>14.010191</td>\n",
       "    </tr>\n",
       "    <tr>\n",
       "      <th>2</th>\n",
       "      <td>201</td>\n",
       "      <td>1585202313403228912140250060003691975213223315...</td>\n",
       "      <td>36.250114</td>\n",
       "      <td>22.740841</td>\n",
       "      <td>13.509274</td>\n",
       "    </tr>\n",
       "    <tr>\n",
       "      <th>3</th>\n",
       "      <td>344</td>\n",
       "      <td>7019025695881839582231899620865465382643639431...</td>\n",
       "      <td>70.546150</td>\n",
       "      <td>50.378084</td>\n",
       "      <td>20.168066</td>\n",
       "    </tr>\n",
       "    <tr>\n",
       "      <th>4</th>\n",
       "      <td>379</td>\n",
       "      <td>2484030746096470705093532320416577296880943431...</td>\n",
       "      <td>78.258991</td>\n",
       "      <td>56.735039</td>\n",
       "      <td>21.523952</td>\n",
       "    </tr>\n",
       "    <tr>\n",
       "      <th>5</th>\n",
       "      <td>398</td>\n",
       "      <td>4012188148284705216939095884680639464329735778...</td>\n",
       "      <td>88.999987</td>\n",
       "      <td>69.473982</td>\n",
       "      <td>19.526005</td>\n",
       "    </tr>\n",
       "    <tr>\n",
       "      <th>6</th>\n",
       "      <td>399</td>\n",
       "      <td>1600863071165597381558699257987575146267564575...</td>\n",
       "      <td>91.148138</td>\n",
       "      <td>60.948849</td>\n",
       "      <td>30.199289</td>\n",
       "    </tr>\n",
       "    <tr>\n",
       "      <th>7</th>\n",
       "      <td>402</td>\n",
       "      <td>1032249315192146516408101751144452354914495778...</td>\n",
       "      <td>85.927010</td>\n",
       "      <td>61.543226</td>\n",
       "      <td>24.383783</td>\n",
       "    </tr>\n",
       "    <tr>\n",
       "      <th>8</th>\n",
       "      <td>411</td>\n",
       "      <td>3162682753994239743534273287479944408878237177...</td>\n",
       "      <td>86.788654</td>\n",
       "      <td>65.216064</td>\n",
       "      <td>21.572590</td>\n",
       "    </tr>\n",
       "    <tr>\n",
       "      <th>9</th>\n",
       "      <td>426</td>\n",
       "      <td>6806433669697271290639146137508036732264024325...</td>\n",
       "      <td>90.063810</td>\n",
       "      <td>67.584991</td>\n",
       "      <td>22.478819</td>\n",
       "    </tr>\n",
       "  </tbody>\n",
       "</table>\n",
       "</div>"
      ],
      "text/plain": [
       "   Number                                         Factorials  Recursion Time  \\\n",
       "0     149  3808922637630569726985955243507369335459702385...       36.521912   \n",
       "1     163  2004401576545302577599591653441552787812849977...       36.437988   \n",
       "2     201  1585202313403228912140250060003691975213223315...       36.250114   \n",
       "3     344  7019025695881839582231899620865465382643639431...       70.546150   \n",
       "4     379  2484030746096470705093532320416577296880943431...       78.258991   \n",
       "5     398  4012188148284705216939095884680639464329735778...       88.999987   \n",
       "6     399  1600863071165597381558699257987575146267564575...       91.148138   \n",
       "7     402  1032249315192146516408101751144452354914495778...       85.927010   \n",
       "8     411  3162682753994239743534273287479944408878237177...       86.788654   \n",
       "9     426  6806433669697271290639146137508036732264024325...       90.063810   \n",
       "\n",
       "   Loop Time  Difference  \n",
       "0  19.834995   16.686916  \n",
       "1  22.427797   14.010191  \n",
       "2  22.740841   13.509274  \n",
       "3  50.378084   20.168066  \n",
       "4  56.735039   21.523952  \n",
       "5  69.473982   19.526005  \n",
       "6  60.948849   30.199289  \n",
       "7  61.543226   24.383783  \n",
       "8  65.216064   21.572590  \n",
       "9  67.584991   22.478819  "
      ]
     },
     "execution_count": 18,
     "metadata": {},
     "output_type": "execute_result"
    }
   ],
   "source": [
    "data = {\"Number\": array, 'Factorials': factorials, 'Recursion Time': run_2, 'Loop Time': run_times,}\n",
    "df = pd.DataFrame(data)\n",
    "df['Difference']= df['Recursion Time']-df['Loop Time']\n",
    "df"
   ]
  },
  {
   "cell_type": "code",
   "execution_count": 17,
   "id": "990be441",
   "metadata": {},
   "outputs": [
    {
     "data": {
      "image/png": "[encoded data removed]",
      "text/plain": [
       "<Figure size 1000x1000 with 1 Axes>"
      ]
     },
     "metadata": {
      "needs_background": "light"
     },
     "output_type": "display_data"
    }
   ],
   "source": [
    "plt.figure(figsize=(10, 10), dpi=100)\n",
    "plt.plot(df['Number'], df['Recursion Time'], label = 'Recursion');\n",
    "plt.plot(df['Number'], df['Loop Time'], label = 'Loop');\n",
    "plt.legend();"
   ]
  },
  {
   "cell_type": "markdown",
   "id": "87c3db74",
   "metadata": {},
   "source": [
    "# Executive Summary\n",
    "\n",
    "## For this experiment I created a random array of ten different integers. The goal of this exercise was to test two particular methods of factorializing different numbers. One was to utilize iteration, the other was to utilize an algorithmic method called recursion. Both of these methods tend to run at extremely fast speeds, so at first it was hard to find a way to time the specific measurements. However, since I was aiming to capture overall Big O notation and test out which method ran at a faster speed, I had the code iterate over each of these methods with each number 1000 times. Utilizing this method, I was able to capture the runtime of both of these methods in milliseconds.\n",
    "\n",
    "## Regarding the results, it was quite clear that they both followed a similar pattern regarding their Big O notations. While they both had slight dips toward the larger numbers when finding factorials, it's clear that they both mostly followed a linear pattern therefore having a Big O notation of around O(n) (but the amount is not perfect). The iteration method performed a lot faster than the recursion algorithm however. The smallest difference between the two was around 13 milliseconds in favor of the iteration method, and the largest was 30 milliseconds in favor of the iteration method. These are miniscule differences in theory, but if this done to a larger amount of numbers in an array or even an extremely large number there would definitely be greater differences. This experiment is helpful to data engineers mainly because it gives them the understanding that while recursion may potentially be easier to read, if machine speed is the name of the game, it might be best to go with the iteration."
   ]
  },
  {
   "cell_type": "code",
   "execution_count": null,
   "id": "d5bc7fe4",
   "metadata": {},
   "outputs": [],
   "source": []
  }
 ],
 "metadata": {
  "kernelspec": {
   "display_name": "Python 3 (ipykernel)",
   "language": "python",
   "name": "python3"
  },
  "language_info": {
   "codemirror_mode": {
    "name": "ipython",
    "version": 3
   },
   "file_extension": ".py",
   "mimetype": "text/x-python",
   "name": "python",
   "nbconvert_exporter": "python",
   "pygments_lexer": "ipython3",
   "version": "3.9.7"
  }
 },
 "nbformat": 4,
 "nbformat_minor": 5
}
